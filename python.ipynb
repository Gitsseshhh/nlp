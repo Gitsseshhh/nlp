{
  "cells": [
    {
      "cell_type": "markdown",
      "metadata": {
        "id": "view-in-github",
        "colab_type": "text"
      },
      "source": [
        "<a href=\"https://colab.research.google.com/github/Gitsseshhh/nlp/blob/main/python.ipynb\" target=\"_parent\"><img src=\"https://colab.research.google.com/assets/colab-badge.svg\" alt=\"Open In Colab\"/></a>"
      ]
    },
    {
      "cell_type": "code",
      "execution_count": null,
      "id": "10823797-8e20-447e-b3f7-507d5f2ceb6a",
      "metadata": {
        "id": "10823797-8e20-447e-b3f7-507d5f2ceb6a",
        "outputId": "7f3cfcc7-8187-490c-88cc-76d151c6a912"
      },
      "outputs": [
        {
          "name": "stdout",
          "output_type": "stream",
          "text": [
            "HI\n",
            "I am Esha\n"
          ]
        }
      ],
      "source": [
        "print(\"HI\")\n",
        "print(\"I am Esha\")"
      ]
    },
    {
      "cell_type": "code",
      "execution_count": null,
      "id": "2444e2e6-9132-4d72-89c7-7999067893c2",
      "metadata": {
        "id": "2444e2e6-9132-4d72-89c7-7999067893c2",
        "outputId": "8fc94357-89b8-47ff-d29b-4f3d429c1191"
      },
      "outputs": [
        {
          "name": "stdout",
          "output_type": "stream",
          "text": [
            "hi i am esha\n"
          ]
        }
      ],
      "source": [
        "print(\"hi\",\"i am esha\")"
      ]
    },
    {
      "cell_type": "code",
      "execution_count": null,
      "id": "642ec449-da97-4504-b29f-3298c29a5330",
      "metadata": {
        "id": "642ec449-da97-4504-b29f-3298c29a5330",
        "outputId": "36eb764d-0f98-4799-c85e-4c0a30b1d714"
      },
      "outputs": [
        {
          "name": "stdout",
          "output_type": "stream",
          "text": [
            "100\n"
          ]
        }
      ],
      "source": [
        "print(100)"
      ]
    },
    {
      "cell_type": "code",
      "execution_count": null,
      "id": "e80304e0-6684-42af-9488-acf5931536fd",
      "metadata": {
        "id": "e80304e0-6684-42af-9488-acf5931536fd",
        "outputId": "58c91a6a-56f9-47c6-f06a-96e1607f3777"
      },
      "outputs": [
        {
          "name": "stdout",
          "output_type": "stream",
          "text": [
            "2.0\n"
          ]
        }
      ],
      "source": [
        "print(8/4)"
      ]
    },
    {
      "cell_type": "code",
      "execution_count": null,
      "id": "b355275c-2eb9-4e8d-80c4-3044190c1b38",
      "metadata": {
        "id": "b355275c-2eb9-4e8d-80c4-3044190c1b38",
        "outputId": "7e7ae65b-7e96-4fff-b683-6c368d8a287c"
      },
      "outputs": [
        {
          "name": "stdout",
          "output_type": "stream",
          "text": [
            "1.8\n"
          ]
        }
      ],
      "source": [
        "print(9/5)"
      ]
    },
    {
      "cell_type": "code",
      "execution_count": null,
      "id": "d5edd80d-ec1d-4e18-b3e8-616818d5e7a0",
      "metadata": {
        "id": "d5edd80d-ec1d-4e18-b3e8-616818d5e7a0",
        "outputId": "a07a17d3-e072-493c-ebee-d5f69d1b6d76"
      },
      "outputs": [
        {
          "name": "stdout",
          "output_type": "stream",
          "text": [
            "4\n"
          ]
        }
      ],
      "source": [
        "print(9%5)"
      ]
    },
    {
      "cell_type": "code",
      "execution_count": null,
      "id": "6b554f9a-ffa2-4bb6-9f2a-6a887cd60de5",
      "metadata": {
        "id": "6b554f9a-ffa2-4bb6-9f2a-6a887cd60de5",
        "outputId": "de25c51b-7b42-451b-bcdb-1fa843e76559"
      },
      "outputs": [
        {
          "name": "stdout",
          "output_type": "stream",
          "text": [
            "25\n"
          ]
        }
      ],
      "source": [
        "age=25\n",
        "print(age)"
      ]
    },
    {
      "cell_type": "code",
      "execution_count": null,
      "id": "cf60d3e5-c576-4692-9ef7-5b92e71726ed",
      "metadata": {
        "id": "cf60d3e5-c576-4692-9ef7-5b92e71726ed",
        "outputId": "4fde7d75-1e6c-4f69-a38d-0d9288606639"
      },
      "outputs": [
        {
          "name": "stdout",
          "output_type": "stream",
          "text": [
            "my name is : Esha\n",
            "age: 20\n"
          ]
        }
      ],
      "source": [
        "name=\"Esha\"\n",
        "age=20\n",
        "print(\"my name is :\",name)\n",
        "print(\"age:\",age)"
      ]
    },
    {
      "cell_type": "code",
      "execution_count": null,
      "id": "6d889423-4489-4a48-9384-1c9d3f302d21",
      "metadata": {
        "id": "6d889423-4489-4a48-9384-1c9d3f302d21",
        "outputId": "f2483cb6-3764-4b07-eb50-ebc11cb14411"
      },
      "outputs": [
        {
          "name": "stdout",
          "output_type": "stream",
          "text": [
            "<class 'str'>\n"
          ]
        }
      ],
      "source": [
        "print(type(name))"
      ]
    },
    {
      "cell_type": "code",
      "execution_count": null,
      "id": "ab135f2f-e700-4a43-a36a-0b39931fdfc8",
      "metadata": {
        "id": "ab135f2f-e700-4a43-a36a-0b39931fdfc8",
        "outputId": "812fb461-699b-4cb5-e68a-58e572a86eea"
      },
      "outputs": [
        {
          "name": "stdout",
          "output_type": "stream",
          "text": [
            "<class 'int'>\n"
          ]
        }
      ],
      "source": [
        "print(type(age))"
      ]
    },
    {
      "cell_type": "code",
      "execution_count": null,
      "id": "f2779f70-a9d1-4cb4-af0f-2882154cbd3f",
      "metadata": {
        "id": "f2779f70-a9d1-4cb4-af0f-2882154cbd3f",
        "outputId": "de90047b-9fcd-407b-da3d-7e6d4962507e"
      },
      "outputs": [
        {
          "name": "stdout",
          "output_type": "stream",
          "text": [
            "<class 'bool'>\n",
            "<class 'NoneType'>\n"
          ]
        }
      ],
      "source": [
        "old=False\n",
        "a=None\n",
        "print(type(old))\n",
        "print(type(a))"
      ]
    },
    {
      "cell_type": "code",
      "execution_count": 3,
      "id": "0e0f8a95-fe65-4117-9d2b-f99346ec0c17",
      "metadata": {
        "id": "0e0f8a95-fe65-4117-9d2b-f99346ec0c17",
        "outputId": "562816d3-b35e-4c56-8262-adc1560e5802",
        "colab": {
          "base_uri": "https://localhost:8080/"
        }
      },
      "outputs": [
        {
          "output_type": "stream",
          "name": "stdout",
          "text": [
            "hello world\n"
          ]
        }
      ],
      "source": [
        "print(\"hello world\")"
      ]
    },
    {
      "cell_type": "code",
      "source": [],
      "metadata": {
        "id": "FDZP1G9_xmp_"
      },
      "id": "FDZP1G9_xmp_",
      "execution_count": null,
      "outputs": []
    }
  ],
  "metadata": {
    "kernelspec": {
      "display_name": "Python 3 (ipykernel)",
      "language": "python",
      "name": "python3"
    },
    "language_info": {
      "codemirror_mode": {
        "name": "ipython",
        "version": 3
      },
      "file_extension": ".py",
      "mimetype": "text/x-python",
      "name": "python",
      "nbconvert_exporter": "python",
      "pygments_lexer": "ipython3",
      "version": "3.13.1"
    },
    "colab": {
      "provenance": [],
      "include_colab_link": true
    }
  },
  "nbformat": 4,
  "nbformat_minor": 5
}