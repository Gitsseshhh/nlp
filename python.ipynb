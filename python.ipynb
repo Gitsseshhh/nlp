{
 "cells": [
  {
   "cell_type": "code",
   "execution_count": 1,
   "id": "10823797-8e20-447e-b3f7-507d5f2ceb6a",
   "metadata": {},
   "outputs": [
    {
     "name": "stdout",
     "output_type": "stream",
     "text": [
      "HI\n",
      "I am Esha\n"
     ]
    }
   ],
   "source": [
    "print(\"HI\")\n",
    "print(\"I am Esha\")"
   ]
  },
  {
   "cell_type": "code",
   "execution_count": 2,
   "id": "2444e2e6-9132-4d72-89c7-7999067893c2",
   "metadata": {},
   "outputs": [
    {
     "name": "stdout",
     "output_type": "stream",
     "text": [
      "hi i am esha\n"
     ]
    }
   ],
   "source": [
    "print(\"hi\",\"i am esha\")"
   ]
  },
  {
   "cell_type": "code",
   "execution_count": 3,
   "id": "642ec449-da97-4504-b29f-3298c29a5330",
   "metadata": {},
   "outputs": [
    {
     "name": "stdout",
     "output_type": "stream",
     "text": [
      "100\n"
     ]
    }
   ],
   "source": [
    "print(100)"
   ]
  },
  {
   "cell_type": "code",
   "execution_count": 4,
   "id": "e80304e0-6684-42af-9488-acf5931536fd",
   "metadata": {},
   "outputs": [
    {
     "name": "stdout",
     "output_type": "stream",
     "text": [
      "2.0\n"
     ]
    }
   ],
   "source": [
    "print(8/4)"
   ]
  },
  {
   "cell_type": "code",
   "execution_count": 1,
   "id": "b355275c-2eb9-4e8d-80c4-3044190c1b38",
   "metadata": {},
   "outputs": [
    {
     "name": "stdout",
     "output_type": "stream",
     "text": [
      "1.8\n"
     ]
    }
   ],
   "source": [
    "print(9/5)"
   ]
  },
  {
   "cell_type": "code",
   "execution_count": 3,
   "id": "d5edd80d-ec1d-4e18-b3e8-616818d5e7a0",
   "metadata": {},
   "outputs": [
    {
     "name": "stdout",
     "output_type": "stream",
     "text": [
      "4\n"
     ]
    }
   ],
   "source": [
    "print(9%5)"
   ]
  },
  {
   "cell_type": "code",
   "execution_count": 5,
   "id": "6b554f9a-ffa2-4bb6-9f2a-6a887cd60de5",
   "metadata": {},
   "outputs": [
    {
     "name": "stdout",
     "output_type": "stream",
     "text": [
      "25\n"
     ]
    }
   ],
   "source": [
    "age=25\n",
    "print(age)"
   ]
  },
  {
   "cell_type": "code",
   "execution_count": 7,
   "id": "cf60d3e5-c576-4692-9ef7-5b92e71726ed",
   "metadata": {},
   "outputs": [
    {
     "name": "stdout",
     "output_type": "stream",
     "text": [
      "my name is : Esha\n",
      "age: 20\n"
     ]
    }
   ],
   "source": [
    "name=\"Esha\"\n",
    "age=20\n",
    "print(\"my name is :\",name)\n",
    "print(\"age:\",age)"
   ]
  },
  {
   "cell_type": "code",
   "execution_count": 8,
   "id": "6d889423-4489-4a48-9384-1c9d3f302d21",
   "metadata": {},
   "outputs": [
    {
     "name": "stdout",
     "output_type": "stream",
     "text": [
      "<class 'str'>\n"
     ]
    }
   ],
   "source": [
    "print(type(name))"
   ]
  },
  {
   "cell_type": "code",
   "execution_count": 9,
   "id": "ab135f2f-e700-4a43-a36a-0b39931fdfc8",
   "metadata": {},
   "outputs": [
    {
     "name": "stdout",
     "output_type": "stream",
     "text": [
      "<class 'int'>\n"
     ]
    }
   ],
   "source": [
    "print(type(age))"
   ]
  },
  {
   "cell_type": "code",
   "execution_count": 10,
   "id": "f2779f70-a9d1-4cb4-af0f-2882154cbd3f",
   "metadata": {},
   "outputs": [
    {
     "name": "stdout",
     "output_type": "stream",
     "text": [
      "<class 'bool'>\n",
      "<class 'NoneType'>\n"
     ]
    }
   ],
   "source": [
    "old=False\n",
    "a=None\n",
    "print(type(old))\n",
    "print(type(a))"
   ]
  },
  {
   "cell_type": "code",
   "execution_count": null,
   "id": "0e0f8a95-fe65-4117-9d2b-f99346ec0c17",
   "metadata": {},
   "outputs": [],
   "source": []
  }
 ],
 "metadata": {
  "kernelspec": {
   "display_name": "Python 3 (ipykernel)",
   "language": "python",
   "name": "python3"
  },
  "language_info": {
   "codemirror_mode": {
    "name": "ipython",
    "version": 3
   },
   "file_extension": ".py",
   "mimetype": "text/x-python",
   "name": "python",
   "nbconvert_exporter": "python",
   "pygments_lexer": "ipython3",
   "version": "3.13.1"
  }
 },
 "nbformat": 4,
 "nbformat_minor": 5
}
